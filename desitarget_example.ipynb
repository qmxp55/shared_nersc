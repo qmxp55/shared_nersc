{
 "cells": [
  {
   "cell_type": "code",
   "execution_count": 5,
   "metadata": {},
   "outputs": [
    {
     "ename": "ImportError",
     "evalue": "No module named desiutil.bitmask",
     "output_type": "error",
     "traceback": [
      "\u001b[1;31m\u001b[0m",
      "\u001b[1;31mImportError\u001b[0mTraceback (most recent call last)",
      "\u001b[1;32m<ipython-input-5-6b7badf1448c>\u001b[0m in \u001b[0;36m<module>\u001b[1;34m()\u001b[0m\n\u001b[0;32m      9\u001b[0m \u001b[1;33m\u001b[0m\u001b[0m\n\u001b[0;32m     10\u001b[0m \u001b[0msys\u001b[0m\u001b[1;33m.\u001b[0m\u001b[0mpath\u001b[0m\u001b[1;33m.\u001b[0m\u001b[0minsert\u001b[0m\u001b[1;33m(\u001b[0m\u001b[1;36m0\u001b[0m\u001b[1;33m,\u001b[0m \u001b[1;34m'/global/homes/q/qmxp55/DESI/shared/desitarget/'\u001b[0m\u001b[1;33m)\u001b[0m\u001b[1;33m\u001b[0m\u001b[0m\n\u001b[1;32m---> 11\u001b[1;33m \u001b[1;32mfrom\u001b[0m \u001b[0mtargetmask\u001b[0m \u001b[1;32mimport\u001b[0m \u001b[0mdesi_mask\u001b[0m\u001b[1;33m\u001b[0m\u001b[0m\n\u001b[0m\u001b[0;32m     12\u001b[0m \u001b[1;33m\u001b[0m\u001b[0m\n\u001b[0;32m     13\u001b[0m font = {'family' : 'normal',\n",
      "\u001b[1;32m/global/homes/q/qmxp55/DESI/shared/desitarget/targetmask.py\u001b[0m in \u001b[0;36m<module>\u001b[1;34m()\u001b[0m\n\u001b[0;32m      5\u001b[0m \u001b[0mThis\u001b[0m \u001b[0mlooks\u001b[0m \u001b[0mmore\u001b[0m \u001b[0mlike\u001b[0m \u001b[0ma\u001b[0m \u001b[0mscript\u001b[0m \u001b[0mthan\u001b[0m \u001b[0man\u001b[0m \u001b[0mactual\u001b[0m \u001b[0mmodule\u001b[0m\u001b[1;33m.\u001b[0m\u001b[1;33m\u001b[0m\u001b[0m\n\u001b[0;32m      6\u001b[0m \"\"\"\n\u001b[1;32m----> 7\u001b[1;33m \u001b[1;32mfrom\u001b[0m \u001b[0mdesiutil\u001b[0m\u001b[1;33m.\u001b[0m\u001b[0mbitmask\u001b[0m \u001b[1;32mimport\u001b[0m \u001b[0mBitMask\u001b[0m\u001b[1;33m\u001b[0m\u001b[0m\n\u001b[0m\u001b[0;32m      8\u001b[0m \u001b[1;32mimport\u001b[0m \u001b[0myaml\u001b[0m\u001b[1;33m\u001b[0m\u001b[0m\n\u001b[0;32m      9\u001b[0m \u001b[1;32mfrom\u001b[0m \u001b[0mpkg_resources\u001b[0m \u001b[1;32mimport\u001b[0m \u001b[0mresource_filename\u001b[0m\u001b[1;33m\u001b[0m\u001b[0m\n",
      "\u001b[1;31mImportError\u001b[0m: No module named desiutil.bitmask"
     ]
    }
   ],
   "source": [
    "import numpy as np\n",
    "from astropy.table import Table\n",
    "import matplotlib.pyplot as plt\n",
    "from matplotlib.ticker import NullFormatter\n",
    "#import fitsio\n",
    "import astropy.io.fits as fits\n",
    "import sys, os, time, argparse, glob\n",
    "import warnings; warnings.simplefilter('ignore')\n",
    "\n",
    "sys.path.insert(0, '/global/homes/q/qmxp55/DESI/shared/desitarget/')\n",
    "from targetmask import desi_mask\n",
    "\n",
    "font = {'family' : 'normal',\n",
    "        'weight' : 'bold',\n",
    "        'size'   : 14}\n",
    "\n",
    "import matplotlib\n",
    "matplotlib.rc('font', **font)"
   ]
  },
  {
   "cell_type": "markdown",
   "metadata": {},
   "source": [
    "# Load desitarget catalogue\n",
    "\n",
    "This will load my copy of desitarget catalogue generated on 5th February 2019. \n",
    "The catalogue is stored here:\n",
    "\n",
    "        /global/homes/q/qmxp55/DESI/desitarget_data/targetdir/targets-dr7.1-0.26.0.fits"
   ]
  },
  {
   "cell_type": "code",
   "execution_count": null,
   "metadata": {},
   "outputs": [],
   "source": [
    "targdir = '/global/homes/q/qmxp55/DESI/desitarget_data/targetdir'"
   ]
  },
  {
   "cell_type": "code",
   "execution_count": 4,
   "metadata": {},
   "outputs": [
    {
     "ename": "NameError",
     "evalue": "name 'fitsio' is not defined",
     "output_type": "error",
     "traceback": [
      "\u001b[1;31m\u001b[0m",
      "\u001b[1;31mNameError\u001b[0mTraceback (most recent call last)",
      "\u001b[1;32m<ipython-input-4-569bec6aeafe>\u001b[0m in \u001b[0;36m<module>\u001b[1;34m()\u001b[0m\n\u001b[1;32m----> 1\u001b[1;33m \u001b[0mdf\u001b[0m \u001b[1;33m=\u001b[0m \u001b[0mfitsio\u001b[0m\u001b[1;33m.\u001b[0m\u001b[0mread\u001b[0m\u001b[1;33m(\u001b[0m\u001b[0mos\u001b[0m\u001b[1;33m.\u001b[0m\u001b[0mpath\u001b[0m\u001b[1;33m.\u001b[0m\u001b[0mjoin\u001b[0m\u001b[1;33m(\u001b[0m\u001b[0mtargdir\u001b[0m\u001b[1;33m,\u001b[0m \u001b[1;34m'targets-dr7.1-0.26.0.fits'\u001b[0m\u001b[1;33m)\u001b[0m\u001b[1;33m)\u001b[0m\u001b[1;33m\u001b[0m\u001b[0m\n\u001b[0m",
      "\u001b[1;31mNameError\u001b[0m: name 'fitsio' is not defined"
     ]
    }
   ],
   "source": [
    "df = fitsio.read(os.path.join(targdir, 'targets-dr7.1-0.26.0.fits'))"
   ]
  },
  {
   "cell_type": "markdown",
   "metadata": {},
   "source": [
    "To check the columns of the catalogue run:\n",
    "    \n",
    "        df.dtype.names\n",
    "        \n",
    "To mask for ELG targets and BRIGHTSTARINBLOB, you need to look into 'BRIGHTSTARINBLOB' and 'DESI_TARGET' columns but also, it's necesary to load 'desi_mask' which contains the information of the bits asociated to all Dark time targets in the 'DESI_TARGET' column. This module can be load with the followiing lines:\n",
    "\n",
    "    sys.path.insert(0, '/global/homes/q/qmxp55/DESI/shared/desitarget/')\n",
    "    from targetmask import desi_mask\n",
    "\n",
    "'desi_mask' was already loaded at the top of this notebook. \n",
    "\n",
    "Below is an example of how to extract the ELG targets."
   ]
  },
  {
   "cell_type": "code",
   "execution_count": 3,
   "metadata": {},
   "outputs": [
    {
     "ename": "NameError",
     "evalue": "name 'df' is not defined",
     "output_type": "error",
     "traceback": [
      "\u001b[1;31m\u001b[0m",
      "\u001b[1;31mNameError\u001b[0mTraceback (most recent call last)",
      "\u001b[1;32m<ipython-input-3-be7ec72307cf>\u001b[0m in \u001b[0;36m<module>\u001b[1;34m()\u001b[0m\n\u001b[0;32m      1\u001b[0m \u001b[1;31m#creating an array of booleans with the same length as desitarget catalogue\u001b[0m\u001b[1;33m\u001b[0m\u001b[1;33m\u001b[0m\u001b[0m\n\u001b[1;32m----> 2\u001b[1;33m \u001b[0mprimary\u001b[0m \u001b[1;33m=\u001b[0m \u001b[0mnp\u001b[0m\u001b[1;33m.\u001b[0m\u001b[0mones_like\u001b[0m\u001b[1;33m(\u001b[0m\u001b[0mdf\u001b[0m\u001b[1;33m[\u001b[0m\u001b[1;34m'RA'\u001b[0m\u001b[1;33m]\u001b[0m\u001b[1;33m,\u001b[0m \u001b[0mdtype\u001b[0m\u001b[1;33m=\u001b[0m\u001b[1;34m'?'\u001b[0m\u001b[1;33m)\u001b[0m\u001b[1;33m\u001b[0m\u001b[0m\n\u001b[0m\u001b[0;32m      3\u001b[0m \u001b[1;33m\u001b[0m\u001b[0m\n\u001b[0;32m      4\u001b[0m \u001b[0mELG\u001b[0m \u001b[1;33m=\u001b[0m \u001b[0mprimary\u001b[0m\u001b[1;33m.\u001b[0m\u001b[0mcopy\u001b[0m\u001b[1;33m(\u001b[0m\u001b[1;33m)\u001b[0m\u001b[1;33m\u001b[0m\u001b[0m\n\u001b[0;32m      5\u001b[0m \u001b[0mBRIBLOB\u001b[0m \u001b[1;33m=\u001b[0m \u001b[0mprimary\u001b[0m\u001b[1;33m.\u001b[0m\u001b[0mcopy\u001b[0m\u001b[1;33m(\u001b[0m\u001b[1;33m)\u001b[0m\u001b[1;33m\u001b[0m\u001b[0m\n",
      "\u001b[1;31mNameError\u001b[0m: name 'df' is not defined"
     ]
    }
   ],
   "source": [
    "#creating an array of booleans with the same length as desitarget catalogue\n",
    "primary = np.ones_like(df['RA'], dtype='?') \n",
    "\n",
    "ELG = primary.copy()\n",
    "BRIBLOB = primary.copy()\n",
    "#Filling the boolean array with ELG targets only as TRUE.\n",
    "ELG &= (np.uint64(df['DESI_TARGET']) & np.uint64(desi_mask['ELG']))!=0\n",
    "#Filling the boolean array with BRIGHTSTARINBLOB\n",
    "BRIBLOB &= df['BRIGHTSTARINBLOB']"
   ]
  },
  {
   "cell_type": "code",
   "execution_count": 1,
   "metadata": {},
   "outputs": [
    {
     "ename": "NameError",
     "evalue": "name 'plt' is not defined",
     "output_type": "error",
     "traceback": [
      "\u001b[1;31m\u001b[0m",
      "\u001b[1;31mNameError\u001b[0mTraceback (most recent call last)",
      "\u001b[1;32m<ipython-input-1-9e2a84dc60a6>\u001b[0m in \u001b[0;36m<module>\u001b[1;34m()\u001b[0m\n\u001b[0;32m      3\u001b[0m     \u001b[1;32mreturn\u001b[0m \u001b[0mmag\u001b[0m\u001b[1;33m\u001b[0m\u001b[0m\n\u001b[0;32m      4\u001b[0m \u001b[1;33m\u001b[0m\u001b[0m\n\u001b[1;32m----> 5\u001b[1;33m \u001b[0mplt\u001b[0m\u001b[1;33m.\u001b[0m\u001b[0mfigure\u001b[0m\u001b[1;33m(\u001b[0m\u001b[0mfigsize\u001b[0m\u001b[1;33m=\u001b[0m\u001b[1;33m(\u001b[0m\u001b[1;36m10\u001b[0m\u001b[1;33m,\u001b[0m \u001b[1;36m5\u001b[0m\u001b[1;33m)\u001b[0m\u001b[1;33m)\u001b[0m\u001b[1;33m\u001b[0m\u001b[0m\n\u001b[0m\u001b[0;32m      6\u001b[0m \u001b[1;33m\u001b[0m\u001b[0m\n\u001b[0;32m      7\u001b[0m \u001b[0mrmag\u001b[0m \u001b[1;33m=\u001b[0m \u001b[0mflux_to_mag\u001b[0m\u001b[1;33m(\u001b[0m\u001b[0mdf\u001b[0m\u001b[1;33m[\u001b[0m\u001b[1;34m'FLUX_R'\u001b[0m\u001b[1;33m]\u001b[0m\u001b[1;33m/\u001b[0m\u001b[0mdf\u001b[0m\u001b[1;33m[\u001b[0m\u001b[1;34m'MW_TRANSMISSION_R'\u001b[0m\u001b[1;33m]\u001b[0m\u001b[1;33m)\u001b[0m\u001b[1;33m\u001b[0m\u001b[0m\n",
      "\u001b[1;31mNameError\u001b[0m: name 'plt' is not defined"
     ]
    }
   ],
   "source": [
    "def flux_to_mag(flux):\n",
    "    mag = 22.5 - 2.5*np.log10(flux)\n",
    "    return mag\n",
    "\n",
    "plt.figure(figsize=(10, 5))\n",
    "\n",
    "rmag = flux_to_mag(df['FLUX_R']/df['MW_TRANSMISSION_R'])\n",
    "\n",
    "bins1 = np.linspace(19, 25, 80)\n",
    "\n",
    "c1 = plt.hist(rmag[ELG], bins=bins1, cumulative=False, histtype='step', align='mid', \n",
    "        color='blue', linewidth=1.5, label=r'ELG')\n",
    "\n",
    "c2 = plt.hist(rmag[(ELG) & (~BRIBLOB)], bins=bins1, cumulative=False, histtype='step', align='mid', \n",
    "        color='r', linewidth=1.5, linestyle='--', label=r'ELG & BRIGHTSTARINBLOB')\n",
    "\n",
    "plt.legend(loc='upper left')\n",
    "\n",
    "plt.xlabel(r'$22.5 - 2.5\\times \\log_{10}$(%s/%s)' %('RFLUX_R', 'MW_TRANSMISSION_R'))\n",
    "plt.ylabel(r'$dn/dmag$')\n",
    "plt.title(r'ELG distribution')\n",
    "#plt.grid()\n",
    "\n",
    "plt.show()"
   ]
  },
  {
   "cell_type": "markdown",
   "metadata": {},
   "source": [
    "# Load the randoms\n",
    "\n",
    "Example of randoms and how to mask BRIGHTSTARINBLOB."
   ]
  },
  {
   "cell_type": "code",
   "execution_count": 15,
   "metadata": {},
   "outputs": [],
   "source": [
    "randoms=fitsio.read('/project/projectdirs/desi/target/catalogs/dr7.1/0.22.0/randoms-dr7.1-0.22.0-1.fits')"
   ]
  },
  {
   "cell_type": "code",
   "execution_count": 17,
   "metadata": {},
   "outputs": [],
   "source": [
    "ran_briblob = np.ones_like(randoms, dtype='?')\n",
    "#Masking the BRIGHTSTARINBLOB of randoms\n",
    "ran_briblob &= (np.uint64(randoms['MASKBITS']) & np.uint64(0x2))!=0"
   ]
  },
  {
   "cell_type": "code",
   "execution_count": 18,
   "metadata": {},
   "outputs": [
    {
     "name": "stdout",
     "output_type": "stream",
     "text": [
      "1.1 % of randoms are in BRIGHTSTARINBLOB\n"
     ]
    }
   ],
   "source": [
    "print('%2.2g %% of randoms are in BRIGHTSTARINBLOB' %(np.sum(ran_briblob)*100/len(randoms)))"
   ]
  },
  {
   "cell_type": "code",
   "execution_count": null,
   "metadata": {},
   "outputs": [],
   "source": []
  }
 ],
 "metadata": {
  "kernelspec": {
   "display_name": "PyROOT",
   "language": "python",
   "name": "pyroot"
  },
  "language_info": {
   "codemirror_mode": {
    "name": "ipython",
    "version": 2
   },
   "file_extension": ".py",
   "mimetype": "text/x-python",
   "name": "python",
   "nbconvert_exporter": "python",
   "pygments_lexer": "ipython2",
   "version": "2.7.12"
  }
 },
 "nbformat": 4,
 "nbformat_minor": 2
}
