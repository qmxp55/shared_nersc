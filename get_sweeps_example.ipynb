{
 "cells": [
  {
   "cell_type": "code",
   "execution_count": 1,
   "metadata": {},
   "outputs": [],
   "source": [
    "import numpy as np\n",
    "import sys, os, time, argparse, glob\n",
    "import warnings; warnings.simplefilter('ignore')\n",
    "import fitsio\n",
    "\n",
    "sys.path.insert(0, '/global/homes/q/qmxp55/DESI/BGS_paper/')\n",
    "from main_def import get_sweep_patch"
   ]
  },
  {
   "cell_type": "markdown",
   "metadata": {},
   "source": [
    "## Extract data from SWEEP files\n",
    "\n",
    "The SWEEP files from DECaLS DR7 are stored on:\n",
    "\n",
    "    /global/project/projectdirs/cosmo/data/legacysurvey/dr7/sweep/7.1\n",
    "\n",
    "Below we have an example on how to extract data from the SWEEP files. The function that extrac the data is called `get_sweep_patch` and requires the sky coordinates of a rectabgle/square in format `[RAmin, RAmax, DECmin, DECmax]` and magnitude limit in the r-band with extinction correction. This example extract data from a patch of $\\sim 40$ deg$^2$ and with r-magnitude limit of 20. This took $\\sim 6$ $sec$ to extract and create the catalogue. This function can be called usging the following comand:\n",
    "\n",
    "    sys.path.insert(0, '/global/homes/q/qmxp55/DESI/BGS_paper/')\n",
    "    from main_def import get_sweep_patch\n",
    "\n",
    "The first line contain the path where the main functions are stored and the second line call the needed function `get_sweep_patch` to extract the data from the SWEEPS. The `get_sweep_patch` function is located at main definitions file:\n",
    "\n",
    "    /global/homes/q/qmxp55/DESI/BGS_paper/main_def.py\n",
    "\n",
    "To see the content of this function just type:\n",
    "\n",
    "    get_sweep_patch?\n",
    "    "
   ]
  },
  {
   "cell_type": "code",
   "execution_count": 4,
   "metadata": {},
   "outputs": [
    {
     "name": "stdout",
     "output_type": "stream",
     "text": [
      "sweep-180m005-190p000 with 78241 objects out of 1744328 at rmag=20\n",
      "sweep-180p000-190p005 with 75616 objects out of 1647993 at rmag=20\n",
      "Bricks that matched: 2\n",
      "Sample region # objects: 153857\n",
      "Total run time: 6.390764 sec\n",
      "Area of 180 < RA < 190 & -2 < DEC < 2: 8.149 deg^2\n",
      "Weight of sweep_180_190_-2_2_rmag_20.npy catalogue: 89.8 MB\n"
     ]
    }
   ],
   "source": [
    "#define the square/rectangle patch of the sky in format [RAmin, RAmax, DECmin, DECmax]\n",
    "main_patch = [180, 190, -2, 2]\n",
    "#get subsample catalogue\n",
    "df = get_sweep_patch(patch=main_patch, rlimit=20)\n",
    "\n",
    "#give the right permissions to subsample catalogue\n",
    "!chmod 777 *.npy"
   ]
  },
  {
   "cell_type": "markdown",
   "metadata": {},
   "source": [
    "`df` is the subsample catalogue which was also stored at this notebook path\n",
    "\n",
    "    /global/project/projectdirs/desi/users/qmxp55/shared/sweep_180_190_-2_2_rmag_20.npy\n",
    "    \n",
    "The catalogue was stored with numpy format `.npy` which is faster to write and read than `.fits`. \n",
    "\n",
    "The `get_sweep_patch` won't create duplicates for same patches in the sky neither will extract the data again if file is already there and instead this will load the catalogue.\n",
    "\n",
    "If needed numpy data frames (`.npy`) can be read just typing:\n",
    "\n",
    "    df = np.load('sweep_180_190_-2_2_rmag_20.npy')\n",
    "    "
   ]
  }
 ],
 "metadata": {
  "kernelspec": {
   "display_name": "DESI 18.3",
   "language": "python",
   "name": "desi-18.3"
  },
  "language_info": {
   "codemirror_mode": {
    "name": "ipython",
    "version": 3
   },
   "file_extension": ".py",
   "mimetype": "text/x-python",
   "name": "python",
   "nbconvert_exporter": "python",
   "pygments_lexer": "ipython3",
   "version": "3.6.4"
  }
 },
 "nbformat": 4,
 "nbformat_minor": 2
}
